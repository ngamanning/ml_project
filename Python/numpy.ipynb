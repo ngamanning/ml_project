{
 "cells": [
  {
   "cell_type": "code",
   "execution_count": null,
   "id": "31a39f3b",
   "metadata": {},
   "outputs": [],
   "source": [
    "import numpy as np"
   ]
  },
  {
   "cell_type": "code",
   "execution_count": null,
   "id": "a61044d6",
   "metadata": {},
   "outputs": [],
   "source": [
    "a = np.array([0,1, 2, 3, 4])\n",
    "a\n",
    "print(\"a[0]:\", a[0])\n",
    "print(\"a[1]:\", a[1])\n",
    "print(\"a[2]:\", a[2])\n",
    "print(\"a[3]:\", a[3])\n",
    "print(\"a[4]:\", a[4])\n",
    "a.dtype"
   ]
  },
  {
   "cell_type": "markdown",
   "id": "27a7c719",
   "metadata": {},
   "source": [
    "Check numpy version"
   ]
  },
  {
   "cell_type": "code",
   "execution_count": null,
   "id": "ee50f59a",
   "metadata": {},
   "outputs": [],
   "source": [
    "print(np.__version__)"
   ]
  },
  {
   "cell_type": "markdown",
   "id": "3db018ab",
   "metadata": {},
   "source": [
    "Changing element"
   ]
  },
  {
   "cell_type": "code",
   "execution_count": null,
   "id": "029bb41b",
   "metadata": {},
   "outputs": [],
   "source": [
    "a[4] = 1000\n",
    "a"
   ]
  },
  {
   "cell_type": "markdown",
   "id": "6d80b753",
   "metadata": {},
   "source": [
    "Slicing"
   ]
  },
  {
   "cell_type": "code",
   "execution_count": null,
   "id": "6a57de9a",
   "metadata": {},
   "outputs": [],
   "source": [
    "d = a[1:4]\n",
    "d"
   ]
  },
  {
   "cell_type": "code",
   "execution_count": null,
   "id": "e62cb7d3",
   "metadata": {},
   "outputs": [],
   "source": [
    "arr = np.array([1, 2, 3, 4, 5, 6, 7])\n",
    "print(arr[0:9:3]) #[start:end:step]"
   ]
  },
  {
   "cell_type": "markdown",
   "id": "f0bd2fd4",
   "metadata": {},
   "source": [
    "Numpy Array Operations"
   ]
  },
  {
   "cell_type": "code",
   "execution_count": null,
   "id": "b8d5aefc",
   "metadata": {},
   "outputs": [],
   "source": [
    "\n",
    "u = np.array([1, 0])\n",
    "u\n",
    "v = np.array([0, 1])\n",
    "v\n",
    "# Numpy Array Addition\n",
    "z = np.add(u, v)\n",
    "z\n",
    "arr1 = np.array([10, 11, 12, 13, 14, 15])\n",
    "arr2 = np.array([20, 21, 22, 23, 24, 25])\n",
    "arr12 = np.add(arr1,arr2)\n",
    "arr12"
   ]
  },
  {
   "cell_type": "code",
   "execution_count": null,
   "id": "2b7e5d60",
   "metadata": {},
   "outputs": [],
   "source": [
    "# Plotting functions\n",
    "import time \n",
    "import sys\n",
    "import numpy as np \n",
    "import matplotlib.pyplot as plt\n",
    "\n",
    "def Plotvec1(u, z, v):\n",
    "    \n",
    "    ax = plt.axes() # to generate the full window axes\n",
    "    ax.arrow(0, 0, *u, head_width=0.05, color='r', head_length=0.1)# Add an arrow to the  U Axes with arrow head width 0.05, color red and arrow head length 0.1\n",
    "    plt.text(*(u + 0.1), 'u')#Adds the text u to the Axes \n",
    "    \n",
    "    ax.arrow(0, 0, *v, head_width=0.05, color='b', head_length=0.1)# Add an arrow to the  v Axes with arrow head width 0.05, color red and arrow head length 0.1\n",
    "    plt.text(*(v + 0.1), 'v')#Adds the text v to the Axes \n",
    "    \n",
    "    ax.arrow(0, 0, *z, head_width=0.05, head_length=0.1)\n",
    "    plt.text(*(z + 0.1), 'z')#Adds the text z to the Axes \n",
    "    plt.ylim(-2, 2)#set the ylim to bottom(-2), top(2)\n",
    "    plt.xlim(-2, 2)#set the xlim to left(-2), right(2)\n",
    "\n",
    "# Plot numpy arrays\n",
    "Plotvec1(u, z, v)"
   ]
  },
  {
   "cell_type": "code",
   "execution_count": null,
   "id": "2f6f5ba0",
   "metadata": {},
   "outputs": [],
   "source": [
    "# array subtraction\n",
    "arr1 = np.array([10, 20, 30, 40, 50, 60])\n",
    "arr2 = np.array([20, 21, 22, 23, 24, 25])\n",
    "arr1_minus2 = np.subtract(arr2,arr1)\n",
    "arr1_minus2"
   ]
  },
  {
   "cell_type": "code",
   "execution_count": null,
   "id": "7466f04c",
   "metadata": {},
   "outputs": [],
   "source": [
    "# Numpy Array Multiplication\n",
    "arr1 = np.array([10, 20, 30, 40, 50, 60])\n",
    "arr2 = np.array([20, 21, 22, 23, 24, 25])\n",
    "multiply = np.multiply(arr1,arr2)\n",
    "multiply"
   ]
  },
  {
   "cell_type": "code",
   "execution_count": null,
   "id": "4d26b986",
   "metadata": {},
   "outputs": [],
   "source": [
    "# Numpy Array Division\n",
    "arr1 = np.array([10, 20, 30, 40, 50, 60])\n",
    "arr2 = np.array([3, 5, 10, 8, 2, 33])\n",
    "division = np.divide(arr1,arr2)\n",
    "division\n"
   ]
  },
  {
   "cell_type": "code",
   "execution_count": null,
   "id": "bf6adaa3",
   "metadata": {},
   "outputs": [],
   "source": [
    "# Calculate the dot product\n",
    "X = np.array([1, 2])\n",
    "Y = np.array([3, 2])\n",
    "np.dot(X, Y)\n",
    "\n",
    "\n"
   ]
  },
  {
   "cell_type": "code",
   "execution_count": null,
   "id": "8810c045",
   "metadata": {},
   "outputs": [],
   "source": [
    "# Create a constant to numpy array\n",
    "u = np.array([1, 2, 3, -1]) \n",
    "u\n",
    "u + 1\n"
   ]
  },
  {
   "cell_type": "code",
   "execution_count": null,
   "id": "58a03ab0",
   "metadata": {},
   "outputs": [],
   "source": [
    "# The value of pi\n",
    "np.pi"
   ]
  },
  {
   "cell_type": "code",
   "execution_count": null,
   "id": "278264bd",
   "metadata": {},
   "outputs": [],
   "source": [
    "# Create the numpy array in radians\n",
    "x = np.array([0, np.pi/2 , np.pi])\n"
   ]
  },
  {
   "cell_type": "code",
   "execution_count": null,
   "id": "437f7c1c",
   "metadata": {},
   "outputs": [],
   "source": [
    "# Calculate the sin of each elements\n",
    "\n",
    "y = np.sin(x)\n",
    "y"
   ]
  },
  {
   "cell_type": "code",
   "execution_count": null,
   "id": "6e009890",
   "metadata": {},
   "outputs": [],
   "source": [
    "# Linspace - returns evenly spaced numbers over a specified interval\n",
    "# numpy.linspace(start, stop, num = int value)\n",
    "#   start : start of interval range\n",
    "#   stop : end of interval range\n",
    "#   num : Number of samples to generate.\n",
    "\n",
    "# Makeup a numpy array within [-2, 2] and 5 elements\n",
    "np.linspace(-2, 2, num=5)\n",
    "\n",
    "# Make a numpy array within [0, 2π] and 100 elements \n",
    "x = np.linspace(0, 2*np.pi, num=100)\n",
    "x\n",
    "\n",
    "# Calculate the sine of x list\n",
    "y = np.sin(x)\n",
    "plt.plot(x, y)\n",
    "\n"
   ]
  },
  {
   "cell_type": "code",
   "execution_count": null,
   "id": "a611dea8",
   "metadata": {},
   "outputs": [],
   "source": [
    "# Iterating 1-D Arrays\n",
    "arr1 = np.array([1, 2, 3])\n",
    "print(arr1)\n",
    "\n",
    "for x in arr1:\n",
    "  print(x)"
   ]
  },
  {
   "cell_type": "markdown",
   "id": "efbdcfb9",
   "metadata": {},
   "source": [
    "Matrix in numpy"
   ]
  },
  {
   "cell_type": "code",
   "execution_count": 50,
   "id": "fed5bf26",
   "metadata": {},
   "outputs": [
    {
     "data": {
      "text/plain": [
       "array([[ 1,  2,  3,  4],\n",
       "       [ 5,  6,  7,  8],\n",
       "       [ 9, 10, 11, 12]])"
      ]
     },
     "execution_count": 50,
     "metadata": {},
     "output_type": "execute_result"
    }
   ],
   "source": [
    "a = [[1, 2, 3, 4], [5, 6, 7, 8], [9, 10, 11, 12]]\n",
    "#  Convert to a numpy array\n",
    "npa = np.array(a)\n",
    "npa\n",
    "\n"
   ]
  },
  {
   "cell_type": "code",
   "execution_count": 51,
   "id": "0feef40c",
   "metadata": {},
   "outputs": [
    {
     "data": {
      "text/plain": [
       "12"
      ]
     },
     "execution_count": 51,
     "metadata": {},
     "output_type": "execute_result"
    }
   ],
   "source": [
    "# Calculate the numpy array size\n",
    "np.size(npa)"
   ]
  },
  {
   "cell_type": "code",
   "execution_count": 53,
   "id": "509f7eca",
   "metadata": {},
   "outputs": [
    {
     "data": {
      "text/plain": [
       "array([1, 2])"
      ]
     },
     "execution_count": 53,
     "metadata": {},
     "output_type": "execute_result"
    }
   ],
   "source": [
    "# Access the element on the first row and first and second columns\n",
    "npa[0][0:2]\n"
   ]
  },
  {
   "cell_type": "code",
   "execution_count": 58,
   "id": "d4554ccc",
   "metadata": {},
   "outputs": [
    {
     "data": {
      "text/plain": [
       "[[1, 2, 3, 4], [5, 6, 7, 8], [9, 10, 11, 12]]"
      ]
     },
     "execution_count": 58,
     "metadata": {},
     "output_type": "execute_result"
    }
   ],
   "source": [
    "a"
   ]
  },
  {
   "cell_type": "code",
   "execution_count": null,
   "id": "926385e9",
   "metadata": {},
   "outputs": [
    {
     "data": {
      "text/plain": [
       "array([[ 1,  4],\n",
       "       [ 5, 12],\n",
       "       [ 9, 20]])"
      ]
     },
     "execution_count": 57,
     "metadata": {},
     "output_type": "execute_result"
    }
   ],
   "source": [
    "# matrix multiplication with the numpy arrays\n",
    "\n",
    "b = np.array([[0, 1], [1, 0], [1, 1], [-1, 0]])\n",
    "c = np.dot(a,b)\n",
    "c"
   ]
  },
  {
   "cell_type": "code",
   "execution_count": 61,
   "id": "17576121",
   "metadata": {},
   "outputs": [
    {
     "name": "stdout",
     "output_type": "stream",
     "text": [
      "0\n"
     ]
    }
   ],
   "source": [
    "a=np.array([-1,1]) \n",
    "b=np.array([1,1]) \n",
    "\n",
    "c = np.dot(a,b) \n"
   ]
  },
  {
   "cell_type": "code",
   "execution_count": null,
   "id": "ef2ba109",
   "metadata": {},
   "outputs": [
    {
     "data": {
      "text/plain": [
       "array([[2, 1],\n",
       "       [1, 2]])"
      ]
     },
     "execution_count": 65,
     "metadata": {},
     "output_type": "execute_result"
    },
    {
     "ename": "",
     "evalue": "",
     "output_type": "error",
     "traceback": [
      "\u001b[1;31mThe Kernel crashed while executing code in the current cell or a previous cell. \n",
      "\u001b[1;31mPlease review the code in the cell(s) to identify a possible cause of the failure. \n",
      "\u001b[1;31mClick <a href='https://aka.ms/vscodeJupyterKernelCrash'>here</a> for more info. \n",
      "\u001b[1;31mView Jupyter <a href='command:jupyter.viewOutput'>log</a> for further details."
     ]
    }
   ],
   "source": [
    "X=np.array([[1,0],[0,1]])\n",
    "\n",
    "Y=np.array([[2,1],[1,2]]) \n",
    "\n",
    "Z=np.dot(X,Y) \n",
    "Z"
   ]
  }
 ],
 "metadata": {
  "kernelspec": {
   "display_name": ".venv",
   "language": "python",
   "name": "python3"
  },
  "language_info": {
   "codemirror_mode": {
    "name": "ipython",
    "version": 3
   },
   "file_extension": ".py",
   "mimetype": "text/x-python",
   "name": "python",
   "nbconvert_exporter": "python",
   "pygments_lexer": "ipython3",
   "version": "3.12.4"
  }
 },
 "nbformat": 4,
 "nbformat_minor": 5
}
