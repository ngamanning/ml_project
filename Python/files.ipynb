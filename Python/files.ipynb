{
 "cells": [
  {
   "cell_type": "markdown",
   "id": "dc9a5158",
   "metadata": {},
   "source": [
    "Reading files"
   ]
  },
  {
   "cell_type": "code",
   "execution_count": null,
   "id": "8702abe4",
   "metadata": {},
   "outputs": [
    {
     "data": {
      "text/plain": [
       "('Example1.txt', <http.client.HTTPMessage at 0x20b04a62e40>)"
      ]
     },
     "execution_count": 1,
     "metadata": {},
     "output_type": "execute_result"
    }
   ],
   "source": [
    "## download file from url\n",
    "\n",
    "import urllib.request\n",
    "url = 'https://cf-courses-data.s3.us.cloud-object-storage.appdomain.cloud/IBMDeveloperSkillsNetwork-PY0101EN-SkillsNetwork/labs/Module%204/data/example1.txt'\n",
    "filename = 'Example1.txt'\n",
    "urllib.request.urlretrieve(url, filename)\n"
   ]
  },
  {
   "cell_type": "code",
   "execution_count": null,
   "id": "5ec3c559",
   "metadata": {},
   "outputs": [
    {
     "name": "stdout",
     "output_type": "stream",
     "text": [
      "This is line 1 \n",
      "This is line 2\n",
      "This is line 3\n"
     ]
    }
   ],
   "source": [
    "# Read the Example1.txt\n",
    "example1 = \"example1.txt\"\n",
    "file1 = open(example1, \"r\")\n",
    "\n",
    "# Print the path of file\n",
    "file1.name\n",
    "\n",
    "# Print the mode of file, either 'r' or 'w'\n",
    "file1.mode\n",
    "\n",
    "# Read the file\n",
    "\n",
    "FileContent = file1.read()\n",
    "FileContent\n",
    "\n",
    "# Print the file with '\\n' as a new line\n",
    "print(FileContent)\n",
    "\n",
    "# !!! Close file after finish\n",
    "file1.close()"
   ]
  },
  {
   "cell_type": "markdown",
   "id": "c8de6903",
   "metadata": {},
   "source": [
    "A Better Way to Open a File"
   ]
  },
  {
   "cell_type": "code",
   "execution_count": 8,
   "id": "6bd47cb3",
   "metadata": {},
   "outputs": [
    {
     "name": "stdout",
     "output_type": "stream",
     "text": [
      "This is line 1 \n",
      "This is line 2\n",
      "This is line 3\n"
     ]
    },
    {
     "data": {
      "text/plain": [
       "True"
      ]
     },
     "execution_count": 8,
     "metadata": {},
     "output_type": "execute_result"
    }
   ],
   "source": [
    "# Open file using with - Using the with statement is better practice, it automatically closes the file even if the code encounters an exception\n",
    "\n",
    "with open(example1, \"r\") as file1:\n",
    "    FileContent = file1.read()   \n",
    "    print(FileContent)\n",
    "\n",
    "# Verify if the file is closed\n",
    "file1.closed"
   ]
  },
  {
   "cell_type": "code",
   "execution_count": 9,
   "id": "42c6ee33",
   "metadata": {},
   "outputs": [
    {
     "name": "stdout",
     "output_type": "stream",
     "text": [
      "This\n"
     ]
    }
   ],
   "source": [
    "# Read first four characters\n",
    "with open(example1, \"r\") as file1:\n",
    "    print(file1.read(4))"
   ]
  },
  {
   "cell_type": "code",
   "execution_count": 10,
   "id": "47ace342",
   "metadata": {},
   "outputs": [
    {
     "name": "stdout",
     "output_type": "stream",
     "text": [
      "This\n",
      " is \n",
      "line 1 \n",
      "\n",
      "This is line 2\n"
     ]
    }
   ],
   "source": [
    "# Read certain amount of characters\n",
    "\n",
    "with open(example1, \"r\") as file1:\n",
    "    print(file1.read(4))\n",
    "    print(file1.read(4))\n",
    "    print(file1.read(7))\n",
    "    print(file1.read(15))"
   ]
  },
  {
   "cell_type": "code",
   "execution_count": 11,
   "id": "347e79b7",
   "metadata": {},
   "outputs": [
    {
     "name": "stdout",
     "output_type": "stream",
     "text": [
      "First line: This is line 1 \n",
      "\n"
     ]
    }
   ],
   "source": [
    "# Read one line\n",
    "with open(example1,'r') as file1:\n",
    "    print(\"First line: \" + file1.readline())"
   ]
  },
  {
   "cell_type": "code",
   "execution_count": 15,
   "id": "79898305",
   "metadata": {},
   "outputs": [
    {
     "name": "stdout",
     "output_type": "stream",
     "text": [
      "['This is line 1 \\n', 'This is line 2\\n', 'This is line 3']\n"
     ]
    }
   ],
   "source": [
    "# Read all lines and save as a list\n",
    "with open(example1, \"r\") as file1:\n",
    "    FileasList = file1.readlines()\n",
    "print(FileasList)"
   ]
  },
  {
   "cell_type": "markdown",
   "id": "ec6cf526",
   "metadata": {},
   "source": [
    "Writing to files"
   ]
  },
  {
   "cell_type": "code",
   "execution_count": null,
   "id": "9f091026",
   "metadata": {},
   "outputs": [
    {
     "name": "stdout",
     "output_type": "stream",
     "text": [
      "['This is line 4']\n"
     ]
    }
   ],
   "source": [
    "  # override content of the file\n",
    "with open(example1, \"w\") as file1:  \n",
    "    file1.write('This is line 4') \n",
    "\n",
    "with open(example1, \"r\") as new_file1:   \n",
    "    NewFileList = new_file1.readlines()\n",
    "print(NewFileList)"
   ]
  },
  {
   "cell_type": "code",
   "execution_count": 24,
   "id": "b8ff393e",
   "metadata": {},
   "outputs": [
    {
     "name": "stdout",
     "output_type": "stream",
     "text": [
      "['This is line 4This is line 5This is line 5\\n', '\\n', 'This is line 5\\n', 'This is line 5']\n"
     ]
    }
   ],
   "source": [
    "# Appending content to file \n",
    "with open(example1, \"a\") as file1:  \n",
    "    file1.write(\"\\nThis is line 5\") \n",
    "with open(example1, \"r\") as new_file_a:   \n",
    "    NewFileList = new_file_a.readlines()\n",
    "print(NewFileList)\n"
   ]
  },
  {
   "cell_type": "markdown",
   "id": "0186ab04",
   "metadata": {},
   "source": [
    "Other file modes"
   ]
  },
  {
   "cell_type": "code",
   "execution_count": null,
   "id": "494621dc",
   "metadata": {},
   "outputs": [],
   "source": [
    "# r+ : Reading and writing. Cannot truncate the file.\n",
    "# w+ : Writing and reading. Truncates the file.\n",
    "# a+ : Appending and Reading. Creates a new file, if none exists. "
   ]
  },
  {
   "cell_type": "code",
   "execution_count": null,
   "id": "8a15483c",
   "metadata": {},
   "outputs": [
    {
     "name": "stdout",
     "output_type": "stream",
     "text": [
      "Initial Location: 76\n",
      "Read nothing\n",
      "\n",
      "New Location : 0\n",
      "This is line 4This is line 5This is line 5\n",
      "\n",
      "This is line 5\n",
      "This is line 5\n",
      "Location after read: 76\n"
     ]
    }
   ],
   "source": [
    "with open(example1, \"a+\") as testwritefile:\n",
    "    print(\"Initial Location: {}\".format(testwritefile.tell()))    \n",
    "    data = testwritefile.read()\n",
    "    if (not data):  #empty strings return false in python\n",
    "            print('Read nothing') \n",
    "    else: \n",
    "            print(testwritefile.read())\n",
    "            \n",
    "    testwritefile.seek(0,0) # move 0 bytes from beginning.\n",
    "    \n",
    "    print(\"\\nNew Location : {}\".format(testwritefile.tell()))\n",
    "    data = testwritefile.read()\n",
    "    if (not data): \n",
    "            print('Read nothing') \n",
    "    else: \n",
    "            print(data)\n",
    "    \n",
    "    print(\"Location after read: {}\".format(testwritefile.tell()) )"
   ]
  },
  {
   "cell_type": "markdown",
   "id": "db51339d",
   "metadata": {},
   "source": [
    "Copying files"
   ]
  },
  {
   "cell_type": "code",
   "execution_count": 36,
   "id": "245b0d52",
   "metadata": {},
   "outputs": [
    {
     "name": "stdout",
     "output_type": "stream",
     "text": [
      "This is line 4This is line 5This is line 5\n",
      "\n",
      "This is line 5\n",
      "This is line 5\n"
     ]
    }
   ],
   "source": [
    "example2 = \"example2.txt\"\n",
    "file2 = open(example2, \"r\")\n",
    "with open(example1, \"r\") as readfile:\n",
    "     with open(example2,'w') as writefile:\n",
    "          for line in readfile:\n",
    "                writefile.write(line)\n",
    "\n",
    "with open(example2,'r') as testwritefile:\n",
    "    print(testwritefile.read())"
   ]
  },
  {
   "cell_type": "code",
   "execution_count": 1,
   "id": "e0bf7a47",
   "metadata": {},
   "outputs": [],
   "source": [
    "with open(\"example2.txt\",\"w\") as file1: \n",
    "    file1.write(\"This is line C\\n\") "
   ]
  }
 ],
 "metadata": {
  "kernelspec": {
   "display_name": "Python 3",
   "language": "python",
   "name": "python3"
  },
  "language_info": {
   "codemirror_mode": {
    "name": "ipython",
    "version": 3
   },
   "file_extension": ".py",
   "mimetype": "text/x-python",
   "name": "python",
   "nbconvert_exporter": "python",
   "pygments_lexer": "ipython3",
   "version": "3.12.4"
  }
 },
 "nbformat": 4,
 "nbformat_minor": 5
}
