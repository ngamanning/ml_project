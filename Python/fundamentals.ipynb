{
 "cells": [
  {
   "cell_type": "markdown",
   "id": "05954293",
   "metadata": {},
   "source": [
    "Loops"
   ]
  },
  {
   "cell_type": "code",
   "execution_count": null,
   "id": "2abd63b0",
   "metadata": {},
   "outputs": [],
   "source": [
    "albums = [\"Thrillers\",\"You took my heart away\",\"Blue night\"]\n",
    "for album in albums:\n",
    "    print(album)"
   ]
  },
  {
   "cell_type": "code",
   "execution_count": null,
   "id": "90f5b0e2",
   "metadata": {},
   "outputs": [],
   "source": [
    "songs = [\"Stille Liv\",\"Sleeping Child\",\"Maybe Tonight\",\"Paint My Love\"]\n",
    "i = 0\n",
    "copied_songs = []\n",
    "while(i < len(songs) and songs[i] != \"Maybe Tonight\"):\n",
    "    copied_songs.append(songs[i])\n",
    "    i = i+1\n",
    "print(copied_songs)\n"
   ]
  },
  {
   "cell_type": "code",
   "execution_count": null,
   "id": "f8584806",
   "metadata": {},
   "outputs": [],
   "source": [
    "rand_numbers = [1,4,5,6,7,7,8,9,10,11,23,23,34,55,66,77,88,56,78,66,55,66,63,44,23,5,567]\n",
    "for i in range(2,7):\n",
    "    print(rand_numbers[i])\n",
    "\n",
    "for i, number in enumerate(rand_numbers):\n",
    "    print(i, number)"
   ]
  },
  {
   "cell_type": "markdown",
   "id": "d2eaa60d",
   "metadata": {},
   "source": [
    "Function"
   ]
  },
  {
   "cell_type": "code",
   "execution_count": null,
   "id": "1df0e179",
   "metadata": {},
   "outputs": [],
   "source": [
    "def printList(listOfAnything):\n",
    "    \"\"\"\"\n",
    "    Print each member of a list with its index\n",
    "    \"\"\"\n",
    "    for i, s in enumerate(listOfAnything):\n",
    "        print(f'At index {i}: {s}')\n",
    "help(printList) #Show the documentation of printList function\n"
   ]
  },
  {
   "cell_type": "code",
   "execution_count": null,
   "id": "aa11e3b1",
   "metadata": {},
   "outputs": [],
   "source": [
    "printList([\"Stille Liv\",\"Sleeping Child\",\"Maybe Tonight\",\"Paint My Love\"])"
   ]
  },
  {
   "cell_type": "code",
   "execution_count": null,
   "id": "5fe86fa7",
   "metadata": {},
   "outputs": [],
   "source": [
    "def oddMultiply(a,b):\n",
    "    c = a * b\n",
    "    return c\n",
    "\n",
    "oddMultiply(2,'Michael Jackson') # returns Michael JacksonMichael Jackson\n",
    "oddMultiply(2,5)"
   ]
  },
  {
   "cell_type": "code",
   "execution_count": null,
   "id": "e1d7401e",
   "metadata": {},
   "outputs": [],
   "source": [
    "def NowWork():\n",
    "    pass #Python does not allow empty function body\n",
    "print(NowWork())"
   ]
  },
  {
   "cell_type": "code",
   "execution_count": null,
   "id": "dc00bc15",
   "metadata": {},
   "outputs": [],
   "source": [
    "# function with unknown arguments\n",
    "def funcWithFlexibleParam(*names):\n",
    "    print(*names)\n",
    "\n",
    "funcWithFlexibleParam(\"Foo\",\"Bar\")\n",
    "funcWithFlexibleParam(\"Foo\")\n",
    "funcWithFlexibleParam([\"Stille Liv\",\"Sleeping Child\",\"Maybe Tonight\",\"Paint My Love\"], \"Me too\")"
   ]
  },
  {
   "cell_type": "code",
   "execution_count": null,
   "id": "c7dc82b8",
   "metadata": {},
   "outputs": [],
   "source": [
    "# Global scope\n",
    "def funcWithScope():\n",
    "    global ClaimedSales\n",
    "    ClaimedSales = '45 million'\n",
    "    return ClaimedSales\n",
    "\n",
    "funcWithScope()\n",
    "print(ClaimedSales)\n",
    "\n",
    "ClaimedSales = \"46 millions\"\n",
    "print(ClaimedSales)\n",
    "    "
   ]
  },
  {
   "cell_type": "markdown",
   "id": "d86fca0a",
   "metadata": {},
   "source": [
    "Exception handling"
   ]
  },
  {
   "cell_type": "code",
   "execution_count": null,
   "id": "61f2da14",
   "metadata": {},
   "outputs": [],
   "source": [
    "def exceptionHandling(x):\n",
    "    try:\n",
    "        getfile = open(x)\n",
    "        getfile.write(\"my file\")\n",
    "    except IOError:\n",
    "        print(\"Unable to open or read file\")\n",
    "    except:\n",
    "        print(\"something else happened.\")\n",
    "    else:\n",
    "        print(\"Good to go\")\n",
    "    finally:\n",
    "        print(\"File closed\")\n",
    "\n",
    "exceptionHandling(\"foobar\")\n",
    "\n"
   ]
  },
  {
   "cell_type": "code",
   "execution_count": null,
   "id": "6c8af49a",
   "metadata": {},
   "outputs": [],
   "source": [
    "# A good error handling function\n",
    "def goodErrorHandling():\n",
    "    # potential code before try catch\n",
    "    try:\n",
    "        # code to try to execute\n",
    "        pass\n",
    "    except ZeroDivisionError:       \n",
    "        # code to execute if there is a ZeroDivisionError\n",
    "         pass\n",
    "    except NameError:\n",
    "        # code to execute if there is a NameError\n",
    "         pass\n",
    "    except:       \n",
    "        # code to execute if ther is any exception\n",
    "         pass\n",
    "    else:\n",
    "        # code to execute if there is no exception\n",
    "         pass\n",
    "    finally:\n",
    "        # code to execute at the end of the try except no matter what\n",
    "         pass        \n",
    "    # code that will execute if there is no exception or a one that we are handling"
   ]
  },
  {
   "cell_type": "markdown",
   "id": "b4fbf139",
   "metadata": {},
   "source": [
    "Object and class"
   ]
  },
  {
   "cell_type": "code",
   "execution_count": null,
   "id": "e48283bd",
   "metadata": {},
   "outputs": [],
   "source": [
    "import matplotlib.pyplot as plt\n",
    "%matplotlib inline \n",
    "class Circle (object):\n",
    "    #constructor\n",
    "    def __init__(self,radius=3, color='blue'):\n",
    "        self.radius = radius\n",
    "        self.color = color\n",
    "    # methods\n",
    "    def add_radius(self, r):\n",
    "        self.radius = self.radius + r\n",
    "        return(self.radius)\n",
    "    \n",
    "    def drawCircle(self):\n",
    "        plt.gca().add_patch(plt.Circle((0, 0), radius=self.radius, fc=self.color))\n",
    "        plt.axis('scaled')\n",
    "        plt.show()         "
   ]
  },
  {
   "cell_type": "code",
   "execution_count": null,
   "id": "13320fb3",
   "metadata": {},
   "outputs": [],
   "source": [
    "# Create an object RedCircle\n",
    "RedCircle = Circle(10, 'red')\n",
    "\n",
    "# Find out the methods can be used on the object RedCircle\n",
    "dir(RedCircle)\n"
   ]
  },
  {
   "cell_type": "code",
   "execution_count": null,
   "id": "44a495ad",
   "metadata": {},
   "outputs": [],
   "source": [
    "# Print the object attributes\n",
    "RedCircle.radius\n",
    "RedCircle.color\n",
    "\n",
    "# Call the method drawCircle\n",
    "RedCircle.drawCircle()"
   ]
  },
  {
   "cell_type": "code",
   "execution_count": 21,
   "id": "5c041847",
   "metadata": {},
   "outputs": [],
   "source": [
    "class Rectangle(object):\n",
    "    #constructor\n",
    "    def __init__(self, width = 2, height = 3, color = 'red'):\n",
    "        self.width = width\n",
    "        self.height = height\n",
    "        self.color = color\n",
    "\n",
    "    #method\n",
    "    def drawRectangle(self):\n",
    "        plt.gca().add_patch(plt.Rectangle((0, 0), self.width, self.height ,fc=self.color))\n",
    "        plt.axis('scaled')\n",
    "        plt.show()"
   ]
  },
  {
   "cell_type": "code",
   "execution_count": 23,
   "id": "5b9d28a3",
   "metadata": {},
   "outputs": [
    {
     "data": {
      "image/png": "[encoded data removed]",
      "text/plain": [
       "<Figure size 640x480 with 1 Axes>"
      ]
     },
     "metadata": {},
     "output_type": "display_data"
    }
   ],
   "source": [
    "SkinnyBlueRectangle = Rectangle(2, 2, 'blue')\n",
    "SkinnyBlueRectangle.drawRectangle()"
   ]
  },
  {
   "cell_type": "code",
   "execution_count": 24,
   "id": "530e6248",
   "metadata": {},
   "outputs": [
    {
     "name": "stdout",
     "output_type": "stream",
     "text": [
      "Color: white\n",
      "Max Speed: 200\n",
      "Mileage: 20\n",
      "Seating Capacity: 4\n",
      "Color: white\n",
      "Max Speed: 180\n",
      "Mileage: 25\n",
      "Seating Capacity: 4\n"
     ]
    }
   ],
   "source": [
    "class Vehicle:\n",
    "    color = \"white\"\n",
    "    # constructor\n",
    "    def __init__(self, max_speed = 0, mileage = 0):\n",
    "        self.max_speed = max_speed\n",
    "        self.mileage = mileage\n",
    "        self.seating_capacity = None\n",
    "\n",
    "    # methods:\n",
    "    def assign_seats(self, seating_capacity):\n",
    "         self.seating_capacity = seating_capacity\n",
    "\n",
    "    def list_vehicle_attributes(self):\n",
    "        print(f\"Color: {self.color}\")\n",
    "        print(f\"Max Speed: {self.max_speed}\")\n",
    "        print(f\"Mileage: {self.mileage}\")\n",
    "        print(f\"Seating Capacity: {self.seating_capacity}\")\n",
    "\n",
    "FordEscape = Vehicle(200,20)\n",
    "FordEscape.assign_seats(4)\n",
    "FordEscape.list_vehicle_attributes()\n",
    "\n",
    "Ferrari = Vehicle(180,25)\n",
    "Ferrari.assign_seats(4)\n",
    "Ferrari.list_vehicle_attributes()    \n",
    "    \n"
   ]
  }
 ],
 "metadata": {
  "kernelspec": {
   "display_name": "Python 3",
   "language": "python",
   "name": "python3"
  },
  "language_info": {
   "codemirror_mode": {
    "name": "ipython",
    "version": 3
   },
   "file_extension": ".py",
   "mimetype": "text/x-python",
   "name": "python",
   "nbconvert_exporter": "python",
   "pygments_lexer": "ipython3",
   "version": "3.12.4"
  }
 },
 "nbformat": 4,
 "nbformat_minor": 5
}
